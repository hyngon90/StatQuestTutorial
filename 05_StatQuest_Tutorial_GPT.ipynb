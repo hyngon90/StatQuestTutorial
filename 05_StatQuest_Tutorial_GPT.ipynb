{
  "nbformat": 4,
  "nbformat_minor": 0,
  "metadata": {
    "colab": {
      "provenance": [],
      "authorship_tag": "ABX9TyP7XyKPunp48XFBM/MH0IJB",
      "include_colab_link": true
    },
    "kernelspec": {
      "name": "python3",
      "display_name": "Python 3"
    },
    "language_info": {
      "name": "python"
    }
  },
  "cells": [
    {
      "cell_type": "markdown",
      "metadata": {
        "id": "view-in-github",
        "colab_type": "text"
      },
      "source": [
        "<a href=\"https://colab.research.google.com/github/hyngon90/StatQuestTutorial/blob/main/05_StatQuest_Tutorial_GPT.ipynb\" target=\"_parent\"><img src=\"https://colab.research.google.com/assets/colab-badge.svg\" alt=\"Open In Colab\"/></a>"
      ]
    },
    {
      "cell_type": "code",
      "execution_count": null,
      "metadata": {
        "id": "130XurpM-8nA"
      },
      "outputs": [],
      "source": [
        "import torch\n",
        "import torch.nn as nn\n",
        "import torch.nn.functional as F\n",
        "\n",
        "from torch.optim import Adam\n",
        "from torch.utils.data import TensorDataset, DataLoader\n",
        "\n",
        "import lightning as L"
      ]
    },
    {
      "cell_type": "code",
      "source": [
        "'''\n",
        "What is StatQuest? -> Awesome!\n",
        "StatQuest is what? -> Awesome!\n",
        "\n",
        "There are four + one elements of Token\n",
        "Token = {\"what\",\"is\", \"StatQuest\", \"awesome\", \"<EOS>\"}\n",
        "'''\n",
        "\n",
        "token_to_id = {\n",
        "    'what': 0,\n",
        "    'is': 1,\n",
        "    'statquest':2,\n",
        "    'awesome':3,\n",
        "    '<EOS>':4,\n",
        "}\n",
        "id_to_token = dict(map(reversed, token_to_id.items()))"
      ],
      "metadata": {
        "id": "-cf_I76-AyF4"
      },
      "execution_count": null,
      "outputs": []
    },
    {
      "cell_type": "code",
      "source": [
        "'''\n",
        "What is StatQuest? -> Awesome!\n",
        "StatQuest is what? -> Awesome!\n",
        "'''\n",
        "\n",
        "inputs = torch.tensor([\n",
        "    [token_to_id['what'], token_to_id['is'], token_to_id['statquest'], token_to_id['<EOS>'], token_to_id['awesome']],\n",
        "    [token_to_id['statquest'], token_to_id['is'], token_to_id['what'], token_to_id['<EOS>'], token_to_id['awesome']],\n",
        "\n",
        "])\n",
        "labels = torch.tensor([\n",
        "    [token_to_id['is'], token_to_id['statquest'], token_to_id['<EOS>'], token_to_id['awesome'], token_to_id['<EOS>']],\n",
        "    [token_to_id['is'], token_to_id['what'], token_to_id['<EOS>'], token_to_id['awesome'], token_to_id['<EOS>']],\n",
        "])\n",
        "\n",
        "dataset = TensorDataset(inputs, labels)\n",
        "dataloader = DataLoader(dataset)"
      ],
      "metadata": {
        "id": "6OG3vIVOCTvy"
      },
      "execution_count": null,
      "outputs": []
    },
    {
      "cell_type": "code",
      "source": [
        "class PositionEncoding(nn.Module):\n",
        "  def __init__(self, d_model = 2, max_len = 6):\n",
        "    super().__init__()\n",
        "\n",
        "    pe = torch.zeros(max_len, d_model)\n",
        "\n",
        "    pos = torch.arange(start = 0, end = max_len, step=1).float().unsqueeze(1)\n",
        "    idx = torch.arange(start = 0, end = d_model, step=2).float()\n",
        "\n",
        "    div = 1/torch.tensor(10000.0)**(idx / d_model)\n",
        "\n",
        "    pe[:, 0::2] = torch.sin(pos * div)\n",
        "    pe[:, 1::2] = torch.cos(pos * div)\n",
        "\n",
        "    self.register_buffer('pe', pe)\n",
        "\n",
        "  def forward(self, word_embeddings):\n",
        "    return word_embeddings + self.pe[:word_embeddings.size(0), :]"
      ],
      "metadata": {
        "id": "uQXXciJjJb5l"
      },
      "execution_count": null,
      "outputs": []
    },
    {
      "cell_type": "code",
      "source": [
        "class Attention(nn.Module):\n",
        "  def __init__(self, d_model = 2):\n",
        "    super().__init__()\n",
        "\n",
        "    self.row_dim = 0\n",
        "    self.col_dim = 1\n",
        "\n",
        "    self.W_q = nn.Linear(in_features = d_model, out_features = d_model, bias = False)\n",
        "    self.W_k = nn.Linear(in_features = d_model, out_features = d_model, bias = False)\n",
        "    self.W_v = nn.Linear(in_features = d_model, out_features = d_model, bias = False)\n",
        "\n",
        "  def forward(self, encodings_for_q, encodings_for_k, encodings_for_v, mask = None):\n",
        "    q = self.W_q(encodings_for_q)\n",
        "    k = self.W_k(encodings_for_k)\n",
        "    v = self.W_v(encodings_for_v)\n",
        "\n",
        "    sims = torch.matmul(q, k.transpose(dim0 = self.row_dim , dim1=self.col_dim))\n",
        "    scaled_sims = sims / torch.tensor(k.size(self.col_dim)**0.5)\n",
        "\n",
        "    if mask is not None:\n",
        "      scaled_sims = scaled_sims.masked_fill(mask = mask, value=-1e9)\n",
        "\n",
        "    attention_percents = F.softmax(scaled_sims, dim = self.col_dim)\n",
        "    attention_score = torch.matmul(attention_percents, v)\n",
        "\n",
        "    return attention_score"
      ],
      "metadata": {
        "id": "QgJ2BYx5NeRu"
      },
      "execution_count": null,
      "outputs": []
    },
    {
      "cell_type": "code",
      "source": [
        "class DecoderOnlyTransformer(L.LightningModule):\n",
        "  def __init__(self, num_tokens = 4, d_model = 2, max_len = 6):\n",
        "    super().__init__()\n",
        "\n",
        "    self.we = nn.Embedding(num_embeddings=num_tokens, embedding_dim=d_model)\n",
        "\n",
        "    self.pe = PositionEncoding(d_model = d_model, max_len = max_len)\n",
        "\n",
        "    self.self_attention = Attention(d_model = d_model)\n",
        "\n",
        "    self.fc_layer = nn.Linear(in_features=d_model, out_features=num_tokens)\n",
        "\n",
        "    self.loss = nn.CrossEntropyLoss()\n",
        "\n",
        "  def forward(self, token_ids):\n",
        "\n",
        "    word_embeddings = self.we(token_ids)\n",
        "    print(token_ids)\n",
        "    print(self.we)\n",
        "    print(word_embeddings)\n",
        "    position_encoded = self.pe(word_embeddings)\n",
        "\n",
        "    mask = torch.tril(torch.ones((token_ids.size(dim=0), token_ids.size(dim=0))))\n",
        "    mask = mask == 0\n",
        "\n",
        "    self_attention_values = self.self_attention(position_encoded,position_encoded,position_encoded,mask=mask)\n",
        "    residual_connection_values = position_encoded + self_attention_values\n",
        "\n",
        "    output = self.fc_layer(residual_connection_values)\n",
        "\n",
        "    return output\n",
        "\n",
        "  def configure_optimizers(self):\n",
        "    return Adam(self.parameters(), lr=0.1)\n",
        "\n",
        "  def training_step(self, batch, batch_idx):\n",
        "    inputs, labels = batch\n",
        "    output = self.forward(inputs[0])\n",
        "    loss = self.loss(output,labels[0])\n",
        "\n",
        "    return loss\n"
      ],
      "metadata": {
        "id": "8__sdZgwVR6B"
      },
      "execution_count": null,
      "outputs": []
    },
    {
      "cell_type": "code",
      "source": [
        "model = DecoderOnlyTransformer(num_tokens=len(token_to_id), d_model = 2, max_len = 6)\n",
        "\n",
        "trainer = L.Trainer(max_epochs=30)\n",
        "trainer.fit(model=model, train_dataloaders=dataloader)\n",
        "\n",
        "model_input = torch.tensor([\n",
        "    token_to_id[\"what\"],\n",
        "    token_to_id[\"is\"],\n",
        "    token_to_id[\"statquest\"],\n",
        "    token_to_id[\"<EOS>\"],\n",
        "])\n",
        "\n",
        "# model_input = torch.tensor([\n",
        "#     token_to_id[\"statquest\"],\n",
        "#     # token_to_id[\"is\"],\n",
        "#     # token_to_id[\"what\"],\n",
        "#     token_to_id[\"<EOS>\"],\n",
        "# ])\n",
        "\n",
        "\n",
        "input_length = model_input.size(dim=0)\n",
        "\n",
        "predictions = model(model_input)\n",
        "predicted_id = torch.tensor([torch.argmax(predictions[-1,:])])\n",
        "predicted_ids = predicted_id\n",
        "\n",
        "max_length = 6\n",
        "\n",
        "for i in range(input_length, max_length):\n",
        "  if(predicted_id == token_to_id[\"<EOS>\"]):\n",
        "    break\n",
        "\n",
        "    model_input = torch.cat((model_input, predicted_id))\n",
        "\n",
        "    predictions = model(model_input)\n",
        "    predicted_id = torch.tensor([torch.argmax(predictions[-1,:])])\n",
        "    predicted_ids = torch.cat((predicted_ids, predicted_id))\n",
        "\n",
        "print(\"Predicted Tokens: \\n\")\n",
        "for id in predicted_ids:\n",
        "  print(\"\\t\", id_to_token[id.item()])"
      ],
      "metadata": {
        "id": "sxLiI6nvYO1r"
      },
      "execution_count": null,
      "outputs": []
    }
  ]
}