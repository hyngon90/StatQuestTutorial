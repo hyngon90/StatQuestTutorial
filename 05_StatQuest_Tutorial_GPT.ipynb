{
  "nbformat": 4,
  "nbformat_minor": 0,
  "metadata": {
    "colab": {
      "provenance": [],
      "authorship_tag": "ABX9TyNdLkYF6ylNvaMboo08R3q9",
      "include_colab_link": true
    },
    "kernelspec": {
      "name": "python3",
      "display_name": "Python 3"
    },
    "language_info": {
      "name": "python"
    }
  },
  "cells": [
    {
      "cell_type": "markdown",
      "metadata": {
        "id": "view-in-github",
        "colab_type": "text"
      },
      "source": [
        "<a href=\"https://colab.research.google.com/github/hyngon90/StatQuestTutorial/blob/main/05_StatQuest_Tutorial_GPT.ipynb\" target=\"_parent\"><img src=\"https://colab.research.google.com/assets/colab-badge.svg\" alt=\"Open In Colab\"/></a>"
      ]
    },
    {
      "cell_type": "code",
      "execution_count": 7,
      "metadata": {
        "id": "130XurpM-8nA"
      },
      "outputs": [],
      "source": [
        "import torch\n",
        "import torch.nn as nn\n",
        "import torch.nn.functional as F\n",
        "\n",
        "from torch.optim import Adam\n",
        "from torch.utils.data import TensorDataset, DataLoader\n",
        "\n",
        "import lightning as L"
      ]
    },
    {
      "cell_type": "code",
      "source": [
        "'''\n",
        "What is StatQuest? -> Awesome!\n",
        "StatQuest is what? -> Awesome!\n",
        "\n",
        "There are four + one elements of Token\n",
        "Token = {\"what\",\"is\", \"StatQuest\", \"awesome\", \"<EOS>\"}\n",
        "'''\n",
        "\n",
        "token_to_id = {\n",
        "    'what': 0,\n",
        "    'is': 1,\n",
        "    'statquest':2,\n",
        "    'awesome':3,\n",
        "    '<EOS>':4,\n",
        "}\n",
        "id_to_token = dict(map(reversed, token_to_id.items()))"
      ],
      "metadata": {
        "id": "-cf_I76-AyF4",
        "outputId": "37242b88-6022-4d85-d1c8-e8229f6e1f9b",
        "colab": {
          "base_uri": "https://localhost:8080/"
        }
      },
      "execution_count": 8,
      "outputs": [
        {
          "output_type": "stream",
          "name": "stdout",
          "text": [
            "{'what': 0, 'is': 1, 'statquest': 2, 'awesome': 3, '<EOS>': 4}\n",
            "{0: 'what', 1: 'is', 2: 'statquest', 3: 'awesome', 4: '<EOS>'}\n"
          ]
        }
      ]
    },
    {
      "cell_type": "code",
      "source": [
        "'''\n",
        "What is StatQuest? -> Awesome!\n",
        "StatQuest is what? -> Awesome!\n",
        "'''\n",
        "\n",
        "inputs = torch.tensor([\n",
        "    [token_to_id['what'], token_to_id['is'], token_to_id['statquest'], token_to_id['<EOS>'], token_to_id['awesome']],\n",
        "    [token_to_id['statquest'], token_to_id['is'], token_to_id['what'], token_to_id['<EOS>'], token_to_id['awesome']],\n",
        "\n",
        "])\n",
        "labels = torch.tensor([\n",
        "    [token_to_id['is'], token_to_id['statquest'], token_to_id['<EOS>'], token_to_id['awesome'], token_to_id['<EOS>']],\n",
        "    [token_to_id['is'], token_to_id['what'], token_to_id['<EOS>'], token_to_id['awesome'], token_to_id['<EOS>']],\n",
        "])\n",
        "\n",
        "dataset = TensorDataset(inputs, labels)\n",
        "dataloader = DataLoader(dataset)"
      ],
      "metadata": {
        "id": "6OG3vIVOCTvy"
      },
      "execution_count": null,
      "outputs": []
    }
  ]
}