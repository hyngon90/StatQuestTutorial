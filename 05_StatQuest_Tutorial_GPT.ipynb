{
  "nbformat": 4,
  "nbformat_minor": 0,
  "metadata": {
    "colab": {
      "provenance": [],
      "authorship_tag": "ABX9TyMTDRANCdf4uCNPlKsnSwV6",
      "include_colab_link": true
    },
    "kernelspec": {
      "name": "python3",
      "display_name": "Python 3"
    },
    "language_info": {
      "name": "python"
    }
  },
  "cells": [
    {
      "cell_type": "markdown",
      "metadata": {
        "id": "view-in-github",
        "colab_type": "text"
      },
      "source": [
        "<a href=\"https://colab.research.google.com/github/hyngon90/StatQuestTutorial/blob/main/05_StatQuest_Tutorial_GPT.ipynb\" target=\"_parent\"><img src=\"https://colab.research.google.com/assets/colab-badge.svg\" alt=\"Open In Colab\"/></a>"
      ]
    },
    {
      "cell_type": "code",
      "execution_count": 56,
      "metadata": {
        "id": "130XurpM-8nA"
      },
      "outputs": [],
      "source": [
        "import torch\n",
        "import torch.nn as nn\n",
        "import torch.nn.functional as F\n",
        "\n",
        "from torch.optim import Adam\n",
        "from torch.utils.data import TensorDataset, DataLoader\n",
        "\n",
        "import lightning as L"
      ]
    },
    {
      "cell_type": "code",
      "source": [
        "'''\n",
        "What is StatQuest? -> Awesome!\n",
        "StatQuest is what? -> Awesome!\n",
        "\n",
        "There are four + one elements of Token\n",
        "Token = {\"what\",\"is\", \"StatQuest\", \"awesome\", \"<EOS>\"}\n",
        "'''\n",
        "\n",
        "token_to_id = {\n",
        "    'what': 0,\n",
        "    'is': 1,\n",
        "    'statquest':2,\n",
        "    'awesome':3,\n",
        "    '<EOS>':4,\n",
        "}\n",
        "id_to_token = dict(map(reversed, token_to_id.items()))"
      ],
      "metadata": {
        "id": "-cf_I76-AyF4"
      },
      "execution_count": 57,
      "outputs": []
    },
    {
      "cell_type": "code",
      "source": [
        "'''\n",
        "What is StatQuest? -> Awesome!\n",
        "StatQuest is what? -> Awesome!\n",
        "'''\n",
        "\n",
        "inputs = torch.tensor([\n",
        "    [token_to_id['what'], token_to_id['is'], token_to_id['statquest'], token_to_id['<EOS>'], token_to_id['awesome']],\n",
        "    [token_to_id['statquest'], token_to_id['is'], token_to_id['what'], token_to_id['<EOS>'], token_to_id['awesome']],\n",
        "\n",
        "])\n",
        "labels = torch.tensor([\n",
        "    [token_to_id['is'], token_to_id['statquest'], token_to_id['<EOS>'], token_to_id['awesome'], token_to_id['<EOS>']],\n",
        "    [token_to_id['is'], token_to_id['what'], token_to_id['<EOS>'], token_to_id['awesome'], token_to_id['<EOS>']],\n",
        "])\n",
        "\n",
        "dataset = TensorDataset(inputs, labels)\n",
        "dataloader = DataLoader(dataset)"
      ],
      "metadata": {
        "id": "6OG3vIVOCTvy"
      },
      "execution_count": 58,
      "outputs": []
    },
    {
      "cell_type": "code",
      "source": [
        "class PositionEncoding(nn.Module):\n",
        "  def __init__(self, d_model = 2, max_len = 6):\n",
        "    super().__init__()\n",
        "\n",
        "    pe = torch.zeros(max_len, d_model)\n",
        "\n",
        "    print(pe)\n",
        "\n",
        "    pos = torch.arange(start = 0, end = max_len, step=1).float().unsqueeze(1)\n",
        "    idx = torch.arange(start = 0, end = d_model, step=2).float()\n",
        "\n",
        "    print(pos)\n",
        "    print(idx)\n",
        "\n",
        "    div = 1/torch.tensor(10000.0)**(idx / d_model)\n",
        "\n",
        "    pe[:, 0::2] = torch.sin(pos * div)\n",
        "    pe[:, 1::2] = torch.cos(pos * div)\n",
        "    print(pe)\n",
        "    print(pe[:2, :])\n",
        "\n",
        "    self.register_buffer('pe', pe)\n",
        "\n",
        "  def forward(self, word_embeddings):\n",
        "    return word_embeddings + self.pe[:word_embeddings.size[0], :]"
      ],
      "metadata": {
        "id": "uQXXciJjJb5l"
      },
      "execution_count": 59,
      "outputs": []
    }
  ]
}