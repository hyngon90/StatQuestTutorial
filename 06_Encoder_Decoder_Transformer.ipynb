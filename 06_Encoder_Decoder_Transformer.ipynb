{
  "nbformat": 4,
  "nbformat_minor": 0,
  "metadata": {
    "colab": {
      "provenance": [],
      "authorship_tag": "ABX9TyM74x6qViC5/o5BOOodcNLc",
      "include_colab_link": true
    },
    "kernelspec": {
      "name": "python3",
      "display_name": "Python 3"
    },
    "language_info": {
      "name": "python"
    }
  },
  "cells": [
    {
      "cell_type": "markdown",
      "metadata": {
        "id": "view-in-github",
        "colab_type": "text"
      },
      "source": [
        "<a href=\"https://colab.research.google.com/github/hyngon90/StatQuestTutorial/blob/main/06_Encoder_Decoder_Transformer.ipynb\" target=\"_parent\"><img src=\"https://colab.research.google.com/assets/colab-badge.svg\" alt=\"Open In Colab\"/></a>"
      ]
    },
    {
      "cell_type": "code",
      "source": [
        "import torch\n",
        "import torch.nn as nn\n",
        "import torch.nn.functional as F\n",
        "\n",
        "from torch.optim import Adam\n",
        "from torch.utils.data import TensorDataset, DataLoader\n",
        "\n",
        "import lightning as L"
      ],
      "metadata": {
        "id": "fgkHKlnYiZCV"
      },
      "execution_count": null,
      "outputs": []
    },
    {
      "cell_type": "code",
      "source": [
        "'''\n",
        "Translater English to Spanish\n",
        "\n",
        "let's go\n",
        "vamos\n",
        "\n",
        "let's go <EOS> vamos <EOS>\n",
        "\n",
        "'''"
      ],
      "metadata": {
        "colab": {
          "base_uri": "https://localhost:8080/",
          "height": 35
        },
        "id": "2G9yUlVIi4sr",
        "outputId": "a77f7799-2fdd-4786-fae0-170157f94ae7"
      },
      "execution_count": null,
      "outputs": [
        {
          "output_type": "execute_result",
          "data": {
            "text/plain": [
              "\"\\nTranslater English to Spanish\\n\\nlet's go\\nvamos\\n\\nlet's go <EOS> vamos <EOS>\\n\\n\""
            ],
            "application/vnd.google.colaboratory.intrinsic+json": {
              "type": "string"
            }
          },
          "metadata": {},
          "execution_count": 3
        }
      ]
    },
    {
      "cell_type": "code",
      "source": [
        "class PositionEncoding(nn.Module):\n",
        "  def __init__(self, d_model, max_len):\n",
        "    super().__init__()\n",
        "\n",
        "    pe = torch.zeros(max_len, d_model)\n",
        "\n",
        "    pos = torch.arange(start = 0, end = max_len, step=1).float().unsqueeze(1)\n",
        "    idx = torch.arange(start = 0, end = d_model, step=2).float()\n",
        "\n",
        "    div = 1/torch.tensor(10000.0)**(idx / d_model)\n",
        "\n",
        "    pe[:, 0::2] = torch.sin(pos * div)\n",
        "    pe[:, 1::2] = torch.cos(pos * div)\n",
        "\n",
        "    self.register_buffer('pe', pe)\n",
        "\n",
        "  def forward(self, word_embeddings):\n",
        "    return word_embeddings + self.pe[:word_embeddings.size(0), :]"
      ],
      "metadata": {
        "id": "BYeBO9u4jOq7"
      },
      "execution_count": null,
      "outputs": []
    },
    {
      "cell_type": "code",
      "source": [
        "class Attention(nn.Module):\n",
        "  def __init__(self, d_model):\n",
        "    super().__init__()\n",
        "\n",
        "    self.row_dim = 0\n",
        "    self.col_dim = 1\n",
        "\n",
        "    self.W_q = nn.Linear(in_features = d_model, out_features = d_model, bias = False)\n",
        "    self.W_k = nn.Linear(in_features = d_model, out_features = d_model, bias = False)\n",
        "    self.W_v = nn.Linear(in_features = d_model, out_features = d_model, bias = False)\n",
        "\n",
        "  def forward(self, encodings_for_q, encodings_for_k, encodings_for_v, mask = None):\n",
        "    q = self.W_q(encodings_for_q)\n",
        "    k = self.W_k(encodings_for_k)\n",
        "    v = self.W_v(encodings_for_v)\n",
        "\n",
        "    sims = torch.matmul(q, k.transpose(dim0 = self.row_dim , dim1=self.col_dim))\n",
        "    scaled_sims = sims / torch.tensor(k.size(self.col_dim)**0.5)\n",
        "\n",
        "    if mask is not None:\n",
        "      scaled_sims = scaled_sims.masked_fill(mask = mask, value=-1e9)\n",
        "\n",
        "    attention_percents = F.softmax(scaled_sims, dim = self.col_dim)\n",
        "    attention_score = torch.matmul(attention_percents, v)\n",
        "\n",
        "    return attention_score"
      ],
      "metadata": {
        "id": "TK_U9lY1jPX8"
      },
      "execution_count": null,
      "outputs": []
    },
    {
      "cell_type": "code",
      "source": [
        "class Encoder(nn.Module):\n",
        "  def __init__(self):\n",
        "    super().__init__()\n",
        "\n",
        "    self.we = nn.Embedding(num_embedding = num_encoder_token, embedding_dim = d_model)\n",
        "    self.pe = PositionEncoding(d_model = d_model, max_len = max_len)\n",
        "    self.self_attention = Attention(d_model = d_model)\n",
        "\n",
        "  def forward(self, encoder_token_ids):\n",
        "    word_embeddings = self.we(encoder_token_ids)\n",
        "    position_encoded = self.pe(word_embeddings)\n",
        "\n",
        "    self_attention_values = self.self_attention(position_encoded, position_encoded, position_encoded)\n",
        "    residual_connection_values = position_encoded + self_attetion_valules\n",
        "\n",
        "    return residual_connection_values"
      ],
      "metadata": {
        "id": "8ZdqrMnijUFr"
      },
      "execution_count": null,
      "outputs": []
    }
  ]
}